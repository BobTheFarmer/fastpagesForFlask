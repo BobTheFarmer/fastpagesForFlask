{
 "cells": [
  {
   "cell_type": "markdown",
   "metadata": {},
   "source": [
    "# Group Roles"
   ]
  },
  {
   "cell_type": "markdown",
   "metadata": {},
   "source": [
    "| Name | Role |\n",
    "| ----------- | ----------- |\n",
    "| Orlando | Scrum Master |\n",
    "| Jaden | Dev Ops |\n",
    "| Colin | Frontend Dev |\n",
    "| Ethan | Backend Dev |"
   ]
  }
 ],
 "metadata": {
  "language_info": {
   "name": "python"
  },
  "orig_nbformat": 4
 },
 "nbformat": 4,
 "nbformat_minor": 2
}
