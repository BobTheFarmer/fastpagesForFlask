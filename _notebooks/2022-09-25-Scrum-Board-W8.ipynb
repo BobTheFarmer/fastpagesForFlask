{
 "cells": [
  {
   "cell_type": "markdown",
   "metadata": {},
   "source": [
    "# Week 8 Assignment \n",
    ">Week 8 Assignment\n",
    "\n",
    "- toc: true \n",
    "- badges: true\n",
    "- comments: true\n",
    "- categories: [Python,Markdown,week-8,APCSP]"
   ]
  },
  {
   "cell_type": "markdown",
   "metadata": {},
   "source": [
    "|To Do|Work In Progress|Completed|Deployed|Reviewed|\n",
    "|-|-|-|-|-|\n",
    "|Complete CSS and HTML File (Frontend)|Game code (Backend)|-|-|-|"
   ]
  },
  {
   "cell_type": "markdown",
   "metadata": {},
   "source": [
    "|Program Purpose|Data Abstraction|Complexity|Procedural Abstraction|Algorithm Implementation|Testing|\n",
    "|-|-|-|-|-|-|\n",
    "|A maze game that is functional and uses path solving to guide the snake through the maze without hitting an edge or a side.|Use different signals to recognize air between wall between snake.|The game will get progressively harder as you pass levels.|Levels get harder and use different symbols to represent the snake and walls.|Use sequencing to \"push\" the snake.|Play the game! The game can also be used to teach others.|"
   ]
  },
  {
   "cell_type": "code",
   "execution_count": 1,
   "metadata": {},
   "outputs": [
    {
     "name": "stdout",
     "output_type": "stream",
     "text": [
      "Keep it in notebooks\n"
     ]
    }
   ],
   "source": [
    "print(\"Keep it in notebooks\")"
   ]
  }
 ],
 "metadata": {
  "kernelspec": {
   "display_name": "Python 3.9.12 ('base')",
   "language": "python",
   "name": "python3"
  },
  "language_info": {
   "codemirror_mode": {
    "name": "ipython",
    "version": 3
   },
   "file_extension": ".py",
   "mimetype": "text/x-python",
   "name": "python",
   "nbconvert_exporter": "python",
   "pygments_lexer": "ipython3",
   "version": "3.9.12"
  },
  "orig_nbformat": 4,
  "vscode": {
   "interpreter": {
    "hash": "30035633ff51bcc11553e39ef3b40810ee19007d8828d0abca75ce9054266ff5"
   }
  }
 },
 "nbformat": 4,
 "nbformat_minor": 2
}
