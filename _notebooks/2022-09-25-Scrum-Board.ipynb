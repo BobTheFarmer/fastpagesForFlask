{
 "cells": [
  {
   "cell_type": "markdown",
   "metadata": {},
   "source": [
    "# Week 5 Assignment Scrum Board\n",
    ">Week 5 Assignment Scrum Board and Agile Methodology\n",
    "\n",
    "- toc: true \n",
    "- badges: true\n",
    "- comments: true\n",
    "- categories: [Python,Markdown,week-5,APCSP]"
   ]
  },
  {
   "cell_type": "markdown",
   "metadata": {},
   "source": [
    "|To Do|Work In Progress|Completed|Deployed|Reviewed|\n",
    "|-|-|-|-|-|\n",
    "|-|Adding page to flask portfolio|-|-|Agile Methodology Poster|"
   ]
  },
  {
   "cell_type": "markdown",
   "metadata": {},
   "source": [
    "![af](./images/af.jpg)"
   ]
  },
  {
   "cell_type": "code",
   "execution_count": 1,
   "metadata": {},
   "outputs": [
    {
     "name": "stdout",
     "output_type": "stream",
     "text": [
      "Keep it in notebooks\n"
     ]
    }
   ],
   "source": [
    "print(\"Keep it in notebooks\")"
   ]
  }
 ],
 "metadata": {
  "kernelspec": {
<<<<<<< HEAD
   "display_name": "Python 3.9.12 ('base')",
=======
   "display_name": "Python 3.10.6 64-bit",
>>>>>>> f02bccf (massacre)
   "language": "python",
   "name": "python3"
  },
  "language_info": {
   "codemirror_mode": {
    "name": "ipython",
    "version": 3
   },
   "file_extension": ".py",
   "mimetype": "text/x-python",
   "name": "python",
   "nbconvert_exporter": "python",
   "pygments_lexer": "ipython3",
<<<<<<< HEAD
   "version": "3.9.12"
=======
   "version": "3.10.6"
>>>>>>> f02bccf (massacre)
  },
  "orig_nbformat": 4,
  "vscode": {
   "interpreter": {
<<<<<<< HEAD
    "hash": "30035633ff51bcc11553e39ef3b40810ee19007d8828d0abca75ce9054266ff5"
=======
    "hash": "b0fa6594d8f4cbf19f97940f81e996739fb7646882a419484c72d19e05852a7e"
>>>>>>> f02bccf (massacre)
   }
  }
 },
 "nbformat": 4,
 "nbformat_minor": 2
}
